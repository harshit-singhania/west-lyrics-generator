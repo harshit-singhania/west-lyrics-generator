{
 "cells": [
  {
   "cell_type": "markdown",
   "metadata": {},
   "source": [
    "# Creating GPT 1.0 to Generate Kanye West Lyrics\n",
    "\n",
    "In this project, the goal is to create a mini version of the GPT (Generative Pre-trained Transformer) model to generate Kanye West lyrics. The inspiration for this project comes from the groundbreaking paper \"Attention Is All You Need\" and the availability of the Kanye-West lyrics dataset from Hugging Face.\n",
    "\n",
    "The GPT model is a transformer-based language model that has achieved remarkable success in various natural language processing tasks, including text generation. By training the model on the song lyrics of Kanye West, we aim to generate lyrics that resemble his unique style and themes.\n",
    "\n",
    "The project involves implementing key components of the GPT model, such as the attention mechanism, transformer blocks, and feed-forward networks. We will also utilize techniques like token embeddings and position embeddings to capture the contextual information of the lyrics.\n",
    "\n",
    "To train the model, we will use the Kanye-West lyrics dataset from HuggingFace, which contains a collection of his songs. The dataset will be preprocessed to convert the lyrics into a suitable format for training the GPT model.\n",
    "\n",
    "Once the model is trained, we can generate new Kanye West lyrics by providing a starting prompt or seed text. The model will then generate a sequence of words that follow the style and patterns learned from the training data.\n",
    "\n",
    "By creating this GPT 1.0 model for generating Kanye West lyrics, we hope to explore the capabilities of language models and generate lyrics that capture the essence of Kanye West's music."
   ]
  },
  {
   "cell_type": "markdown",
   "metadata": {},
   "source": [
    "# Sources \n",
    "\n",
    "1. \n",
    "1. [Dataset](https://huggingface.co/datasets/huggingartists/kanye-west) "
   ]
  },
  {
   "cell_type": "code",
   "execution_count": null,
   "metadata": {},
   "outputs": [],
   "source": []
  }
 ],
 "metadata": {
  "language_info": {
   "name": "python"
  }
 },
 "nbformat": 4,
 "nbformat_minor": 2
}
